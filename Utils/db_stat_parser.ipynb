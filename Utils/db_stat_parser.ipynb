{
 "cells": [
  {
   "cell_type": "code",
   "execution_count": 7,
   "metadata": {
    "collapsed": true
   },
   "outputs": [
    {
     "name": "stdout",
     "output_type": "stream",
     "text": [
      "Comments:25314\n",
      "dupes:3596\n"
     ]
    }
   ],
   "source": [
    "def check_and_remove_dupes(olddb,newdb):\n",
    "    import ast\n",
    "    db = \"DB\"\n",
    "    file = open(db,'r')\n",
    "    file2= open(newdb,'w')\n",
    "    counter_dict ={}\n",
    "    from ast import literal_eval as make_tuple\n",
    "    dupes=0\n",
    "    comments=[]\n",
    "    for line in file:\n",
    "        opinion_comment=  [make_tuple(line)[0],make_tuple(line)[1]]\n",
    "        try:\n",
    "            val = counter_dict[opinion_comment[1]]\n",
    "            if val:\n",
    "                dupes=dupes +1\n",
    "                comments+=[opinion_comment[1]]\n",
    "        except KeyError:\n",
    "            counter_dict[opinion_comment[1]]=1\n",
    "            comments+=[opinion_comment[1]]\n",
    "            file2.write(line)\n",
    "    print(\"Comments:\"+str(len(comments)))\n",
    "    print(\"dupes:\"+str(dupes))\n",
    "    return [str(len(comments)),str(dupes)]\n",
    "import db_builder\n",
    "from ast import literal_eval as make_tuple\n",
    "\n",
    "def merge_databases_with_even_distribution(db1,db2,db3,outdb):\n",
    "    file1 = open(db1, \"r\")\n",
    "    file2 = open(db2, \"r\")\n",
    "    file3 = open(db3, \"r\")\n",
    "    writeToFile = open(outdb, \"w\")\n",
    "    c = [2000, 2000, 2000, 2000]\n",
    "    mapping = {\n",
    "        \"Libertarian Left\": 0,\n",
    "        \"Libertarian Right\": 1,\n",
    "        \"Authoritarian Left\": 2,\n",
    "        \"Authoritarian Right\": 3,\n",
    "    }\n",
    "    for line in file1:\n",
    "        opinion, text = make_tuple(line)\n",
    "        index = mapping[opinion]\n",
    "        if (c[index] > 0):\n",
    "            c[index] -= 1\n",
    "            writeToFile.write(line)\n",
    "    for line in file2:\n",
    "        opinion, text = make_tuple(line)\n",
    "        index = mapping[opinion]\n",
    "        if (c[index] > 0):\n",
    "            c[index] -= 1\n",
    "            writeToFile.write(line)\n",
    "    for line in file3:\n",
    "        opinion, text = make_tuple(line)\n",
    "        index = mapping[opinion]\n",
    "        if (c[index] > 0):\n",
    "            c[index] -= 1\n",
    "            writeToFile.write(line)\n",
    "print(c)"
   ]
  },
  {
   "cell_type": "code",
   "execution_count": null,
   "outputs": [],
   "source": [
    "\n",
    "merge_databases_with_even_distribution()\n",
    "rn = db_builder.DB_Builder()"
   ],
   "metadata": {
    "collapsed": false,
    "pycharm": {
     "name": "#%%\n"
    }
   }
  },
  {
   "cell_type": "code",
   "execution_count": null,
   "outputs": [],
   "source": [],
   "metadata": {
    "collapsed": false,
    "pycharm": {
     "name": "#%%\n"
    }
   }
  }
 ],
 "metadata": {
  "kernelspec": {
   "display_name": "Python 3",
   "language": "python",
   "name": "python3"
  },
  "language_info": {
   "codemirror_mode": {
    "name": "ipython",
    "version": 2
   },
   "file_extension": ".py",
   "mimetype": "text/x-python",
   "name": "python",
   "nbconvert_exporter": "python",
   "pygments_lexer": "ipython2",
   "version": "2.7.6"
  }
 },
 "nbformat": 4,
 "nbformat_minor": 0
}